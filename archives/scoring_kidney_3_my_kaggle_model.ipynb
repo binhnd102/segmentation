{
 "cells": [
  {
   "cell_type": "code",
   "execution_count": 1,
   "metadata": {},
   "outputs": [
    {
     "name": "stdout",
     "output_type": "stream",
     "text": [
      "/mnt/d/Coding/segmentation\n"
     ]
    }
   ],
   "source": [
    "%cd .."
   ]
  },
  {
   "cell_type": "code",
   "execution_count": 2,
   "metadata": {},
   "outputs": [],
   "source": [
    "from model import AttentionUNet\n",
    "from utils import *"
   ]
  },
  {
   "cell_type": "code",
   "execution_count": 3,
   "metadata": {},
   "outputs": [
    {
     "data": {
      "text/plain": [
       "device(type='cuda')"
      ]
     },
     "execution_count": 3,
     "metadata": {},
     "output_type": "execute_result"
    }
   ],
   "source": [
    "import torch\n",
    "def get_default_device():\n",
    "    \"\"\"Pick GPU if available, else CPU\"\"\"\n",
    "    if torch.cuda.is_available():\n",
    "        return torch.device('cuda')\n",
    "    else:\n",
    "        return torch.device('cpu')\n",
    "device = get_default_device()\n",
    "device"
   ]
  },
  {
   "cell_type": "code",
   "execution_count": 4,
   "metadata": {},
   "outputs": [
    {
     "data": {
      "text/plain": [
       "AttentionUNet(\n",
       "  (MaxPool): MaxPool2d(kernel_size=2, stride=2, padding=0, dilation=1, ceil_mode=False)\n",
       "  (Conv1): ConvBlock(\n",
       "    (conv): Sequential(\n",
       "      (0): Conv2d(3, 64, kernel_size=(3, 3), stride=(1, 1), padding=(1, 1))\n",
       "      (1): BatchNorm2d(64, eps=1e-05, momentum=0.1, affine=True, track_running_stats=True)\n",
       "      (2): ReLU(inplace=True)\n",
       "      (3): Conv2d(64, 64, kernel_size=(3, 3), stride=(1, 1), padding=(1, 1))\n",
       "      (4): BatchNorm2d(64, eps=1e-05, momentum=0.1, affine=True, track_running_stats=True)\n",
       "      (5): ReLU(inplace=True)\n",
       "    )\n",
       "  )\n",
       "  (Conv2): ConvBlock(\n",
       "    (conv): Sequential(\n",
       "      (0): Conv2d(64, 128, kernel_size=(3, 3), stride=(1, 1), padding=(1, 1))\n",
       "      (1): BatchNorm2d(128, eps=1e-05, momentum=0.1, affine=True, track_running_stats=True)\n",
       "      (2): ReLU(inplace=True)\n",
       "      (3): Conv2d(128, 128, kernel_size=(3, 3), stride=(1, 1), padding=(1, 1))\n",
       "      (4): BatchNorm2d(128, eps=1e-05, momentum=0.1, affine=True, track_running_stats=True)\n",
       "      (5): ReLU(inplace=True)\n",
       "    )\n",
       "  )\n",
       "  (Conv3): ConvBlock(\n",
       "    (conv): Sequential(\n",
       "      (0): Conv2d(128, 256, kernel_size=(3, 3), stride=(1, 1), padding=(1, 1))\n",
       "      (1): BatchNorm2d(256, eps=1e-05, momentum=0.1, affine=True, track_running_stats=True)\n",
       "      (2): ReLU(inplace=True)\n",
       "      (3): Conv2d(256, 256, kernel_size=(3, 3), stride=(1, 1), padding=(1, 1))\n",
       "      (4): BatchNorm2d(256, eps=1e-05, momentum=0.1, affine=True, track_running_stats=True)\n",
       "      (5): ReLU(inplace=True)\n",
       "    )\n",
       "  )\n",
       "  (Conv4): ConvBlock(\n",
       "    (conv): Sequential(\n",
       "      (0): Conv2d(256, 512, kernel_size=(3, 3), stride=(1, 1), padding=(1, 1))\n",
       "      (1): BatchNorm2d(512, eps=1e-05, momentum=0.1, affine=True, track_running_stats=True)\n",
       "      (2): ReLU(inplace=True)\n",
       "      (3): Conv2d(512, 512, kernel_size=(3, 3), stride=(1, 1), padding=(1, 1))\n",
       "      (4): BatchNorm2d(512, eps=1e-05, momentum=0.1, affine=True, track_running_stats=True)\n",
       "      (5): ReLU(inplace=True)\n",
       "    )\n",
       "  )\n",
       "  (Conv5): ConvBlock(\n",
       "    (conv): Sequential(\n",
       "      (0): Conv2d(512, 1024, kernel_size=(3, 3), stride=(1, 1), padding=(1, 1))\n",
       "      (1): BatchNorm2d(1024, eps=1e-05, momentum=0.1, affine=True, track_running_stats=True)\n",
       "      (2): ReLU(inplace=True)\n",
       "      (3): Conv2d(1024, 1024, kernel_size=(3, 3), stride=(1, 1), padding=(1, 1))\n",
       "      (4): BatchNorm2d(1024, eps=1e-05, momentum=0.1, affine=True, track_running_stats=True)\n",
       "      (5): ReLU(inplace=True)\n",
       "    )\n",
       "  )\n",
       "  (Up5): UpConv(\n",
       "    (up): Sequential(\n",
       "      (0): Upsample(scale_factor=2.0, mode='nearest')\n",
       "      (1): Conv2d(1024, 512, kernel_size=(3, 3), stride=(1, 1), padding=(1, 1))\n",
       "      (2): BatchNorm2d(512, eps=1e-05, momentum=0.1, affine=True, track_running_stats=True)\n",
       "      (3): ReLU(inplace=True)\n",
       "    )\n",
       "  )\n",
       "  (Att5): AttentionBlock(\n",
       "    (W_gate): Sequential(\n",
       "      (0): Conv2d(512, 256, kernel_size=(1, 1), stride=(1, 1))\n",
       "      (1): BatchNorm2d(256, eps=1e-05, momentum=0.1, affine=True, track_running_stats=True)\n",
       "    )\n",
       "    (W_x): Sequential(\n",
       "      (0): Conv2d(512, 256, kernel_size=(1, 1), stride=(1, 1))\n",
       "      (1): BatchNorm2d(256, eps=1e-05, momentum=0.1, affine=True, track_running_stats=True)\n",
       "    )\n",
       "    (psi): Sequential(\n",
       "      (0): Conv2d(256, 1, kernel_size=(1, 1), stride=(1, 1))\n",
       "      (1): BatchNorm2d(1, eps=1e-05, momentum=0.1, affine=True, track_running_stats=True)\n",
       "      (2): Sigmoid()\n",
       "    )\n",
       "    (relu): ReLU(inplace=True)\n",
       "  )\n",
       "  (UpConv5): ConvBlock(\n",
       "    (conv): Sequential(\n",
       "      (0): Conv2d(1024, 512, kernel_size=(3, 3), stride=(1, 1), padding=(1, 1))\n",
       "      (1): BatchNorm2d(512, eps=1e-05, momentum=0.1, affine=True, track_running_stats=True)\n",
       "      (2): ReLU(inplace=True)\n",
       "      (3): Conv2d(512, 512, kernel_size=(3, 3), stride=(1, 1), padding=(1, 1))\n",
       "      (4): BatchNorm2d(512, eps=1e-05, momentum=0.1, affine=True, track_running_stats=True)\n",
       "      (5): ReLU(inplace=True)\n",
       "    )\n",
       "  )\n",
       "  (Up4): UpConv(\n",
       "    (up): Sequential(\n",
       "      (0): Upsample(scale_factor=2.0, mode='nearest')\n",
       "      (1): Conv2d(512, 256, kernel_size=(3, 3), stride=(1, 1), padding=(1, 1))\n",
       "      (2): BatchNorm2d(256, eps=1e-05, momentum=0.1, affine=True, track_running_stats=True)\n",
       "      (3): ReLU(inplace=True)\n",
       "    )\n",
       "  )\n",
       "  (Att4): AttentionBlock(\n",
       "    (W_gate): Sequential(\n",
       "      (0): Conv2d(256, 128, kernel_size=(1, 1), stride=(1, 1))\n",
       "      (1): BatchNorm2d(128, eps=1e-05, momentum=0.1, affine=True, track_running_stats=True)\n",
       "    )\n",
       "    (W_x): Sequential(\n",
       "      (0): Conv2d(256, 128, kernel_size=(1, 1), stride=(1, 1))\n",
       "      (1): BatchNorm2d(128, eps=1e-05, momentum=0.1, affine=True, track_running_stats=True)\n",
       "    )\n",
       "    (psi): Sequential(\n",
       "      (0): Conv2d(128, 1, kernel_size=(1, 1), stride=(1, 1))\n",
       "      (1): BatchNorm2d(1, eps=1e-05, momentum=0.1, affine=True, track_running_stats=True)\n",
       "      (2): Sigmoid()\n",
       "    )\n",
       "    (relu): ReLU(inplace=True)\n",
       "  )\n",
       "  (UpConv4): ConvBlock(\n",
       "    (conv): Sequential(\n",
       "      (0): Conv2d(512, 256, kernel_size=(3, 3), stride=(1, 1), padding=(1, 1))\n",
       "      (1): BatchNorm2d(256, eps=1e-05, momentum=0.1, affine=True, track_running_stats=True)\n",
       "      (2): ReLU(inplace=True)\n",
       "      (3): Conv2d(256, 256, kernel_size=(3, 3), stride=(1, 1), padding=(1, 1))\n",
       "      (4): BatchNorm2d(256, eps=1e-05, momentum=0.1, affine=True, track_running_stats=True)\n",
       "      (5): ReLU(inplace=True)\n",
       "    )\n",
       "  )\n",
       "  (Up3): UpConv(\n",
       "    (up): Sequential(\n",
       "      (0): Upsample(scale_factor=2.0, mode='nearest')\n",
       "      (1): Conv2d(256, 128, kernel_size=(3, 3), stride=(1, 1), padding=(1, 1))\n",
       "      (2): BatchNorm2d(128, eps=1e-05, momentum=0.1, affine=True, track_running_stats=True)\n",
       "      (3): ReLU(inplace=True)\n",
       "    )\n",
       "  )\n",
       "  (Att3): AttentionBlock(\n",
       "    (W_gate): Sequential(\n",
       "      (0): Conv2d(128, 64, kernel_size=(1, 1), stride=(1, 1))\n",
       "      (1): BatchNorm2d(64, eps=1e-05, momentum=0.1, affine=True, track_running_stats=True)\n",
       "    )\n",
       "    (W_x): Sequential(\n",
       "      (0): Conv2d(128, 64, kernel_size=(1, 1), stride=(1, 1))\n",
       "      (1): BatchNorm2d(64, eps=1e-05, momentum=0.1, affine=True, track_running_stats=True)\n",
       "    )\n",
       "    (psi): Sequential(\n",
       "      (0): Conv2d(64, 1, kernel_size=(1, 1), stride=(1, 1))\n",
       "      (1): BatchNorm2d(1, eps=1e-05, momentum=0.1, affine=True, track_running_stats=True)\n",
       "      (2): Sigmoid()\n",
       "    )\n",
       "    (relu): ReLU(inplace=True)\n",
       "  )\n",
       "  (UpConv3): ConvBlock(\n",
       "    (conv): Sequential(\n",
       "      (0): Conv2d(256, 128, kernel_size=(3, 3), stride=(1, 1), padding=(1, 1))\n",
       "      (1): BatchNorm2d(128, eps=1e-05, momentum=0.1, affine=True, track_running_stats=True)\n",
       "      (2): ReLU(inplace=True)\n",
       "      (3): Conv2d(128, 128, kernel_size=(3, 3), stride=(1, 1), padding=(1, 1))\n",
       "      (4): BatchNorm2d(128, eps=1e-05, momentum=0.1, affine=True, track_running_stats=True)\n",
       "      (5): ReLU(inplace=True)\n",
       "    )\n",
       "  )\n",
       "  (Up2): UpConv(\n",
       "    (up): Sequential(\n",
       "      (0): Upsample(scale_factor=2.0, mode='nearest')\n",
       "      (1): Conv2d(128, 64, kernel_size=(3, 3), stride=(1, 1), padding=(1, 1))\n",
       "      (2): BatchNorm2d(64, eps=1e-05, momentum=0.1, affine=True, track_running_stats=True)\n",
       "      (3): ReLU(inplace=True)\n",
       "    )\n",
       "  )\n",
       "  (Att2): AttentionBlock(\n",
       "    (W_gate): Sequential(\n",
       "      (0): Conv2d(64, 32, kernel_size=(1, 1), stride=(1, 1))\n",
       "      (1): BatchNorm2d(32, eps=1e-05, momentum=0.1, affine=True, track_running_stats=True)\n",
       "    )\n",
       "    (W_x): Sequential(\n",
       "      (0): Conv2d(64, 32, kernel_size=(1, 1), stride=(1, 1))\n",
       "      (1): BatchNorm2d(32, eps=1e-05, momentum=0.1, affine=True, track_running_stats=True)\n",
       "    )\n",
       "    (psi): Sequential(\n",
       "      (0): Conv2d(32, 1, kernel_size=(1, 1), stride=(1, 1))\n",
       "      (1): BatchNorm2d(1, eps=1e-05, momentum=0.1, affine=True, track_running_stats=True)\n",
       "      (2): Sigmoid()\n",
       "    )\n",
       "    (relu): ReLU(inplace=True)\n",
       "  )\n",
       "  (UpConv2): ConvBlock(\n",
       "    (conv): Sequential(\n",
       "      (0): Conv2d(128, 64, kernel_size=(3, 3), stride=(1, 1), padding=(1, 1))\n",
       "      (1): BatchNorm2d(64, eps=1e-05, momentum=0.1, affine=True, track_running_stats=True)\n",
       "      (2): ReLU(inplace=True)\n",
       "      (3): Conv2d(64, 64, kernel_size=(3, 3), stride=(1, 1), padding=(1, 1))\n",
       "      (4): BatchNorm2d(64, eps=1e-05, momentum=0.1, affine=True, track_running_stats=True)\n",
       "      (5): ReLU(inplace=True)\n",
       "    )\n",
       "  )\n",
       "  (Conv): Conv2d(64, 1, kernel_size=(1, 1), stride=(1, 1))\n",
       ")"
      ]
     },
     "execution_count": 4,
     "metadata": {},
     "output_type": "execute_result"
    }
   ],
   "source": [
    "import torch\n",
    "model = AttentionUNet()\n",
    "model.load_state_dict(torch.load(\"checkpoints/trained_model.pth\"))\n",
    "model.to(device)\n",
    "model.eval()"
   ]
  },
  {
   "cell_type": "code",
   "execution_count": 5,
   "metadata": {},
   "outputs": [],
   "source": [
    "import pandas as pd\n",
    "\n",
    "\n",
    "gt_df = pd.read_csv(\"data/kaggle/subset_gt.csv\")\n",
    "val_df = gt_df[gt_df[\"group\"] == \"kidney_3_dense\"]"
   ]
  },
  {
   "cell_type": "code",
   "execution_count": 6,
   "metadata": {},
   "outputs": [],
   "source": [
    "image_ids = val_df[\"id\"].values\n",
    "image_files = list(range(len(val_df)))"
   ]
  },
  {
   "cell_type": "code",
   "execution_count": 7,
   "metadata": {},
   "outputs": [
    {
     "data": {
      "text/html": [
       "<div>\n",
       "<style scoped>\n",
       "    .dataframe tbody tr th:only-of-type {\n",
       "        vertical-align: middle;\n",
       "    }\n",
       "\n",
       "    .dataframe tbody tr th {\n",
       "        vertical-align: top;\n",
       "    }\n",
       "\n",
       "    .dataframe thead th {\n",
       "        text-align: right;\n",
       "    }\n",
       "</style>\n",
       "<table border=\"1\" class=\"dataframe\">\n",
       "  <thead>\n",
       "    <tr style=\"text-align: right;\">\n",
       "      <th></th>\n",
       "      <th>height</th>\n",
       "      <th>width</th>\n",
       "    </tr>\n",
       "  </thead>\n",
       "  <tbody>\n",
       "    <tr>\n",
       "      <th>2279</th>\n",
       "      <td>1706</td>\n",
       "      <td>1510</td>\n",
       "    </tr>\n",
       "    <tr>\n",
       "      <th>2280</th>\n",
       "      <td>1706</td>\n",
       "      <td>1510</td>\n",
       "    </tr>\n",
       "    <tr>\n",
       "      <th>2281</th>\n",
       "      <td>1706</td>\n",
       "      <td>1510</td>\n",
       "    </tr>\n",
       "    <tr>\n",
       "      <th>2282</th>\n",
       "      <td>1706</td>\n",
       "      <td>1510</td>\n",
       "    </tr>\n",
       "    <tr>\n",
       "      <th>2283</th>\n",
       "      <td>1706</td>\n",
       "      <td>1510</td>\n",
       "    </tr>\n",
       "    <tr>\n",
       "      <th>...</th>\n",
       "      <td>...</td>\n",
       "      <td>...</td>\n",
       "    </tr>\n",
       "    <tr>\n",
       "      <th>2775</th>\n",
       "      <td>1706</td>\n",
       "      <td>1510</td>\n",
       "    </tr>\n",
       "    <tr>\n",
       "      <th>2776</th>\n",
       "      <td>1706</td>\n",
       "      <td>1510</td>\n",
       "    </tr>\n",
       "    <tr>\n",
       "      <th>2777</th>\n",
       "      <td>1706</td>\n",
       "      <td>1510</td>\n",
       "    </tr>\n",
       "    <tr>\n",
       "      <th>2778</th>\n",
       "      <td>1706</td>\n",
       "      <td>1510</td>\n",
       "    </tr>\n",
       "    <tr>\n",
       "      <th>2779</th>\n",
       "      <td>1706</td>\n",
       "      <td>1510</td>\n",
       "    </tr>\n",
       "  </tbody>\n",
       "</table>\n",
       "<p>501 rows × 2 columns</p>\n",
       "</div>"
      ],
      "text/plain": [
       "      height  width\n",
       "2279    1706   1510\n",
       "2280    1706   1510\n",
       "2281    1706   1510\n",
       "2282    1706   1510\n",
       "2283    1706   1510\n",
       "...      ...    ...\n",
       "2775    1706   1510\n",
       "2776    1706   1510\n",
       "2777    1706   1510\n",
       "2778    1706   1510\n",
       "2779    1706   1510\n",
       "\n",
       "[501 rows x 2 columns]"
      ]
     },
     "execution_count": 7,
     "metadata": {},
     "output_type": "execute_result"
    }
   ],
   "source": [
    "val_df[[\"height\", \"width\"]]"
   ]
  },
  {
   "cell_type": "code",
   "execution_count": 8,
   "metadata": {},
   "outputs": [
    {
     "name": "stderr",
     "output_type": "stream",
     "text": [
      "/usr/local/lib/python3.10/dist-packages/albumentations/augmentations/transforms.py:1258: FutureWarning: This class has been deprecated. Please use RandomBrightnessContrast\n",
      "  warnings.warn(\n"
     ]
    }
   ],
   "source": [
    "from torch.utils.data import Dataset, DataLoader\n",
    "from torchvision.transforms import Resize\n",
    "import cv2\n",
    "from data import H5ImageProcess, subset_preprocess_mask\n",
    "\n",
    "\n",
    "h5_image_process = H5ImageProcess(\"data/kaggle/kidney_3_dense.hdf5\")\n",
    "\n",
    "\n",
    "\n",
    "class TestDataset(Dataset):\n",
    "    def __init__(self, image_ids, image_files):\n",
    "        self.image_ids = image_ids\n",
    "        self.image_files = image_files\n",
    "        self.resize_fn = Resize((256, 256), interpolation=cv2.INTER_NEAREST)\n",
    "    \n",
    "    def __len__(self):\n",
    "        return len(self.image_files)\n",
    "    \n",
    "    def __getitem__(self, idx):\n",
    "        image_id = self.image_ids[idx]\n",
    "        image_file = self.image_files[idx]\n",
    "        image = h5_image_process.preprocess_image_val(image_file)\n",
    "        h, w = 1706, 1510\n",
    "        image = self.resize_fn(image)\n",
    "        return image_id, image, h, w"
   ]
  },
  {
   "cell_type": "code",
   "execution_count": 9,
   "metadata": {},
   "outputs": [],
   "source": [
    "test_dataset = TestDataset(image_ids=image_ids, image_files=image_files)\n",
    "test_dataloader = DataLoader(test_dataset, batch_size=8, shuffle=False)"
   ]
  },
  {
   "cell_type": "code",
   "execution_count": 10,
   "metadata": {},
   "outputs": [],
   "source": [
    "for image_id, image, hs, ws in test_dataloader:\n",
    "    break"
   ]
  },
  {
   "cell_type": "code",
   "execution_count": 11,
   "metadata": {},
   "outputs": [],
   "source": [
    "import numpy as np\n",
    "\n",
    "def rle_encode(img):\n",
    "    '''\n",
    "    img: numpy array, 1 - mask, 0 - background\n",
    "    Returns run length as string formated\n",
    "    '''\n",
    "    pixels = img.flatten()\n",
    "    pixels = np.concatenate([[0], pixels, [0]])\n",
    "    runs = np.where(pixels[1:] != pixels[:-1])[0] + 1\n",
    "    runs[1::2] -= runs[::2]\n",
    "    rle = ' '.join(str(x) for x in runs)\n",
    "    if rle=='':\n",
    "        rle = '1 0'\n",
    "    return rle\n",
    "\n",
    "\n",
    "def remove_small_objects(mask, min_size):\n",
    "    # find all connected components (labels)\n",
    "    num_label, label, stats, centroid = cv2.connectedComponentsWithStats(mask, connectivity=8)\n",
    "    # create a mask where small objects are removed\n",
    "    processed = np.zeros_like(mask)\n",
    "    for l in range(1, num_label):\n",
    "        if stats[l, cv2.CC_STAT_AREA] >= min_size:\n",
    "            processed[label == l] = 1\n",
    "    return processed"
   ]
  },
  {
   "cell_type": "code",
   "execution_count": 12,
   "metadata": {},
   "outputs": [],
   "source": [
    "import torch\n",
    "import torch.nn as nn\n",
    "import numpy as np\n",
    "\n",
    "\n",
    "image_ids = []\n",
    "rles = []\n",
    "\n",
    "for image_id, image, hs, ws in test_dataloader:\n",
    "    image_ids.extend(image_id)\n",
    "    with torch.no_grad():\n",
    "        image = image.to(device)\n",
    "        preds = model(image)\n",
    "        preds = (nn.Sigmoid()(preds)>0.5).double()\n",
    "    for pred, h, w in zip(preds.data.cpu(), hs, ws):\n",
    "        reverse_resize = Resize((h, w), interpolation=cv2.INTER_NEAREST)\n",
    "        pred = reverse_resize(pred)\n",
    "        clean_pred = remove_small_objects(pred.numpy().squeeze().astype(np.uint8), 10)\n",
    "        rles.append(rle_encode(clean_pred))\n",
    "\n",
    "submision_df = pd.DataFrame({\"id\": image_ids, \"rle\": rles})"
   ]
  },
  {
   "cell_type": "code",
   "execution_count": 13,
   "metadata": {},
   "outputs": [],
   "source": [
    "from dataclasses import dataclass, field, asdict\n",
    "from typing import List\n",
    "\n",
    "@dataclass\n",
    "class Groundtruth:\n",
    "    id: List[str] = field(default_factory=list)\n",
    "    rle: List[str] = field(default_factory=list)\n",
    "    group: List[str] = field(default_factory=list)\n",
    "    slice: List[int] = field(default_factory=list)\n",
    "    height: List[int] = field(default_factory=list)\n",
    "    width: List[int] = field(default_factory=list)\n",
    "    \n",
    "    def convert(self, tensor):\n",
    "        return [int(i) for i in tensor]\n",
    "    \n",
    "    def update(self, ids, rles, groups, slices, heights, widths):\n",
    "        self.id.extend(ids)\n",
    "        self.rle.extend(rles)\n",
    "        self.group.extend(groups)\n",
    "        self.slice.extend(self.convert(slices))\n",
    "        self.height.extend(self.convert(heights))\n",
    "        self.width.extend(self.convert(widths))\n",
    "        \n",
    "        \n",
    "@dataclass\n",
    "class Submission:\n",
    "    id: List[str] = field(default_factory=list)\n",
    "    rle: List[str] = field(default_factory=list)\n",
    "    \n",
    "    def convert(self, tensor):\n",
    "        return [int(i) for i in tensor]\n",
    "    \n",
    "    def update(self, ids, rles):\n",
    "        self.id.extend(ids)\n",
    "        self.rle.extend(rles)"
   ]
  },
  {
   "cell_type": "code",
   "execution_count": 14,
   "metadata": {},
   "outputs": [],
   "source": [
    "resize_fn = Resize((256, 256), interpolation=cv2.INTER_NEAREST)\n",
    "\n",
    "\n",
    "def subset_preprocess_mask(lre, H=1303, W=912):\n",
    "    mask = rle_decode(lre, (H, W))\n",
    "    mask_tensor = torch.Tensor(mask)\n",
    "    return mask_tensor\n",
    "\n",
    "\n",
    "class ValDataset(Dataset):\n",
    "    def __init__(self, df):\n",
    "        self.image_paths = list(range(len(df)))\n",
    "        self.label_paths = df[\"rle\"].values\n",
    "        self.group_names = df[\"group\"].values\n",
    "        self.slide_ids = df[\"slice\"].values\n",
    "    \n",
    "    def __len__(self):\n",
    "        return len(self.image_paths)\n",
    "    \n",
    "    def __getitem__(self, idx):\n",
    "        image_path = self.image_paths[idx]\n",
    "        mask_path = self.label_paths[idx]\n",
    "        group_name = self.group_names[idx]\n",
    "        slice_id = self.slide_ids[idx]\n",
    "        sample_id = f\"{group_name}_{slice_id}\"\n",
    "        \n",
    "        image = h5_image_process.preprocess_image_val(image_path)\n",
    "        height, width = image.shape[1], image.shape[2]\n",
    "        \n",
    "        mask = subset_preprocess_mask(mask_path, 1706, 1510)\n",
    "        image = resize_fn(image)\n",
    "        return sample_id, image, mask, group_name, slice_id, height, width\n",
    "\n",
    "\n",
    "val_dataset = ValDataset(val_df)\n",
    "val_dataloader = DataLoader(val_dataset, batch_size=16, shuffle=False)"
   ]
  },
  {
   "cell_type": "code",
   "execution_count": 15,
   "metadata": {},
   "outputs": [
    {
     "name": "stderr",
     "output_type": "stream",
     "text": [
      "100%|██████████| 32/32 [00:23<00:00,  1.38it/s]\n"
     ]
    }
   ],
   "source": [
    "from tqdm import tqdm\n",
    "gt_dicts = Groundtruth()\n",
    "sub_dicts = Submission()\n",
    "# submission_dicts = []\n",
    "for batch in tqdm(val_dataloader):\n",
    "    sample_id, image, mask, group_name, slide_id, height, width = batch\n",
    "    with torch.no_grad():\n",
    "        image = image.to(device)\n",
    "        preds = model(image)\n",
    "        preds = (nn.Sigmoid()(preds)>0.5).double()\n",
    "    \n",
    "    rles = []\n",
    "    for pred, h, w in zip(preds.data.cpu(), height, width):\n",
    "        reverse_resize = Resize((1706, 1510), interpolation=cv2.INTER_NEAREST)\n",
    "        pred = reverse_resize(pred)\n",
    "        clean_pred = remove_small_objects(pred.numpy().squeeze().astype(np.uint8), 10)\n",
    "        rles.append(rle_encode(clean_pred))\n",
    "    gt_rles = []\n",
    "    for m in mask:\n",
    "        gt_rles.append(rle_encode(m.numpy().astype(\"uint8\")))\n",
    "    \n",
    "    height = [1706] * len(height)\n",
    "    width = [1510] * len(width)\n",
    "    gt_dicts.update(sample_id, gt_rles, group_name, slide_id, height, width)\n",
    "    sub_dicts.update(sample_id, rles)\n"
   ]
  },
  {
   "cell_type": "code",
   "execution_count": 16,
   "metadata": {},
   "outputs": [],
   "source": [
    "gt_df = pd.DataFrame(asdict(gt_dicts))\n",
    "sub_df = pd.DataFrame(asdict(sub_dicts))\n",
    "gt_df = gt_df.sort_values(by=\"slice\")"
   ]
  },
  {
   "cell_type": "code",
   "execution_count": 17,
   "metadata": {},
   "outputs": [
    {
     "data": {
      "text/plain": [
       "'384167 6 385677 6 387187 6 388697 6 390207 6 391717 6 393168 17 393221 18 394678 17 394731 18 396188 17 396241 18 397698 17 397751 18 399208 17 399261 18 400718 17 400771 18 402228 17 402281 18 403726 29 403797 6 405236 29 405307 6 406746 29 406817 6 408256 29 408327 6 409766 29 409837 6 411276 29 411347 6 412786 29 412857 6 414284 36 415794 36 417304 36 418814 36 420324 36 421834 36 423338 42 423598 6 424848 42 425108 6 426358 42 426618 6 427868 42 428128 6 429378 42 429638 6 430888 42 431148 6 432398 42 432658 6 433896 48 435406 48 436916 48 438426 48 439936 48 441446 48 442956 48 444466 42 445976 42 447486 42 448996 42 450506 42 452016 42 453532 30 455042 30 456552 30 458062 30 459572 30 461082 30 462592 30 464203 11 465713 11 467223 11 468733 11 470243 11 471753 11 473263 11 474767 17 476277 17 477787 17 479297 17 480807 17 482317 17 483833 11 485343 11 486853 11 488363 11 489873 11 491383 11 492893 11 494403 11 495913 11 497423 11 498933 11 500443 11 501953 11 503463 11 504967 17 506477 17 507987 17 509497 17 511007 17 512517 17 514027 17 515537 17 517047 17 518557 17 520067 17 521577 17 523087 17 846592 6 848102 6 849612 6 851122 6 852632 6 854142 6 855652 6 857162 18 858672 18 860182 18 861692 18 863202 18 864712 18 866222 18 867732 18 869242 18 870752 18 872262 18 873772 18 875282 18 1048490 12 1050000 12 1051510 12 1053020 12 1054530 12 1056040 12 1057544 18 1059054 18 1060564 18 1062074 18 1063584 18 1065094 18 1066604 18 1068120 6 1069630 6 1071140 6 1072650 6 1074160 6 1075670 6 1077180 6 1118086 6 1119596 6 1121106 6 1122616 6 1124126 6 1125636 6 1127146 6 1128644 24 1130154 24 1131664 24 1133174 24 1134684 24 1136194 24 1137704 24 1139090 6 1139214 18 1140600 6 1140724 18 1142110 6 1142234 18 1143620 6 1143744 18 1145130 6 1145254 18 1146640 6 1146764 18 1340197 6 1341707 6 1343217 6 1344727 6 1346237 6 1347747 6 1349257 12 1350767 12 1352277 12 1353787 12 1355297 12 1356807 12 1358317 12 1359827 6 1361337 6 1362847 6 1364357 6 1365867 6 1367377 6 1368887 6 1400515 11 1402025 11 1403535 11 1405045 11 1406555 11 1408065 11 1530593 24 1530646 12 1530670 23 1532103 24 1532156 12 1532180 23 1533613 24 1533666 12 1533690 23 1535123 24 1535176 12 1535200 23 1536633 24 1536686 12 1536710 23 1538143 24 1538196 12 1538220 23 1539653 24 1539706 12 1539730 23 1541157 35 1541216 47 1542667 35 1542726 47 1544177 35 1544236 47 1545687 35 1545746 47 1547197 35 1547256 47 1548707 35 1548766 47 1550217 35 1550276 47 1551786 18 1551816 17 1553296 18 1553326 17 1554806 18 1554836 17 1556316 18 1556346 17 1557826 18 1557856 17 1559336 18 1559366 17 1560887 6 1562397 6 1563907 6 1565417 6 1566927 6 1568437 6 1569947 6 1802310 6 1803820 6 1805330 6 1806840 6 1808350 6 1809860 6 1811370 6'"
      ]
     },
     "execution_count": 17,
     "metadata": {},
     "output_type": "execute_result"
    }
   ],
   "source": [
    "sub_df[sub_df[\"id\"]==\"kidney_3_dense_100\"][\"rle\"].values[0]"
   ]
  },
  {
   "cell_type": "code",
   "execution_count": 18,
   "metadata": {},
   "outputs": [],
   "source": [
    "gt_df_real = pd.read_csv(\"/mnt/c/Users/binhn/Downloads/gt_df.csv\")\n"
   ]
  },
  {
   "cell_type": "code",
   "execution_count": 19,
   "metadata": {},
   "outputs": [],
   "source": [
    "from PIL import Image\n",
    "\n",
    "sub_image = Image.fromarray(rle_decode(sub_df[sub_df[\"id\"]==\"kidney_3_dense_100\"][\"rle\"].values[0], shape=(1706,1510))*255)\n",
    "gt_image = Image.fromarray(rle_decode(gt_df.iloc[100][\"rle\"], shape=(1706,1510))*255)"
   ]
  },
  {
   "cell_type": "code",
   "execution_count": 20,
   "metadata": {},
   "outputs": [
    {
     "data": {
      "image/jpeg": "[encoded data removed]",
      "image/png": "[encoded data removed]",
      "text/plain": [
       "<PIL.Image.Image image mode=L size=1510x1706>"
      ]
     },
     "execution_count": 20,
     "metadata": {},
     "output_type": "execute_result"
    }
   ],
   "source": [
    "sub_image"
   ]
  },
  {
   "cell_type": "code",
   "execution_count": 21,
   "metadata": {},
   "outputs": [],
   "source": [
    "# gt_df[\"rle\"] = gt_df_real[\"rle\"]"
   ]
  },
  {
   "cell_type": "code",
   "execution_count": 3,
   "metadata": {},
   "outputs": [
    {
     "data": {
      "text/plain": [
       "0.15139620006084442"
      ]
     },
     "execution_count": 3,
     "metadata": {},
     "output_type": "execute_result"
    }
   ],
   "source": [
    "gt_df = pd.read_csv(\"data/gt_df.csv\")\n",
    "sub_df = pd.read_csv(\"data/sub_df.csv\")\n",
    "score(sub_df, gt_df, \"id\", \"rle\", image_id_column_name=\"group\", slice_id_column_name=\"slice\")"
   ]
  },
  {
   "cell_type": "code",
   "execution_count": 26,
   "metadata": {},
   "outputs": [],
   "source": [
    "gt_df.to_csv(\"data/gt_df.csv\", index=False)\n",
    "sub_df.to_csv(\"data/sub_df.csv\", index=False)"
   ]
  },
  {
   "cell_type": "code",
   "execution_count": null,
   "metadata": {},
   "outputs": [],
   "source": []
  },
  {
   "cell_type": "code",
   "execution_count": null,
   "metadata": {},
   "outputs": [],
   "source": []
  }
 ],
 "metadata": {
  "kernelspec": {
   "display_name": "Python 3",
   "language": "python",
   "name": "python3"
  },
  "language_info": {
   "codemirror_mode": {
    "name": "ipython",
    "version": 3
   },
   "file_extension": ".py",
   "mimetype": "text/x-python",
   "name": "python",
   "nbconvert_exporter": "python",
   "pygments_lexer": "ipython3",
   "version": "3.10.12"
  }
 },
 "nbformat": 4,
 "nbformat_minor": 2
}
